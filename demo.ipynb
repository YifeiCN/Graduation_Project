{
 "cells": [
  {
   "cell_type": "code",
   "execution_count": 1,
   "metadata": {},
   "outputs": [],
   "source": [
    "import numpy as np\n",
    "import cv2\n",
    "import math\n",
    "import tensorflow as tf\n",
    "import os\n",
    "import time\n",
    "\n",
    "from tensorflow.keras import backend as K\n",
    "from modelutils import MaxoutConv2D,r2"
   ]
  },
  {
   "cell_type": "code",
   "execution_count": 2,
   "metadata": {},
   "outputs": [],
   "source": [
    "%load_ext autoreload\n",
    "%autoreload 2\n",
    "\n",
    "#jupyter 中开启该选项，否则不执行\n",
    "%matplotlib inline"
   ]
  },
  {
   "cell_type": "markdown",
   "metadata": {},
   "source": [
    "# 估计大气光值A "
   ]
  },
  {
   "cell_type": "code",
   "execution_count": 3,
   "metadata": {},
   "outputs": [],
   "source": [
    "# get the dark channel of im,and estimate AtmLight of im\n",
    "\n",
    "# get the dark channel\n",
    "def DarkChannel(im,sz):\n",
    "    \n",
    "    b,g,r = cv2.split(im)\n",
    "    \n",
    "    dc = cv2.min(cv2.min(r,g),b)\n",
    "    \n",
    "    # the next step's func just like kernel stride of dc,and get the min\n",
    "    # value in the szXsz patch \n",
    "    kernel = cv2.getStructuringElement(cv2.MORPH_RECT,(sz,sz))\n",
    "    \n",
    "    dark = cv2.erode(dc,kernel)    \n",
    "    \n",
    "    return dark\n",
    "\n",
    "# estimate the atmospheric light\n",
    "def AtmLight(im,dark):\n",
    "    \n",
    "    [h,w] = im.shape[:2]\n",
    "    \n",
    "    imsz = h*w\n",
    "    \n",
    "    numpx = int(max(math.floor(imsz/1000),1))\n",
    "    \n",
    "    darkvec = dark.reshape(imsz,1)\n",
    "    \n",
    "    imvec = im.reshape(imsz,3)\n",
    "    \n",
    "    indices = darkvec.argsort()\n",
    "    \n",
    "    indices = indices[imsz-numpx::]\n",
    "    \n",
    "    atmsum = np.zeros([1,3])\n",
    "    \n",
    "    for idx in range(1,numpx):\n",
    "        \n",
    "        atmsum = atmsum + imvec[indices[idx]]\n",
    "        \n",
    "    A = atmsum / numpx\n",
    "    \n",
    "    return A"
   ]
  },
  {
   "cell_type": "markdown",
   "metadata": {},
   "source": [
    "# 获得图片transmission map\n",
    "输出粗糙的transmission map 复原的图像会有 块效应\n"
   ]
  },
  {
   "cell_type": "code",
   "execution_count": 4,
   "metadata": {},
   "outputs": [],
   "source": [
    "def TransmissionEstimate(im,net):\n",
    "\n",
    "    \n",
    "    patch = []\n",
    "    \n",
    "    width = im.shape[1]\n",
    "    \n",
    "    height = im.shape[0]\n",
    "    \n",
    "    transmission = np.empty((height,width),np.float32)\n",
    "    \n",
    "    num_w = int(width / PATCH_SIZE)\n",
    "    \n",
    "    num_h = int(height / PATCH_SIZE)\n",
    "     \n",
    "    for i in range(num_h):\n",
    "    \n",
    "        for j in range(num_w):#    h,                                        w,                              c\n",
    "            \n",
    "                hazy_patch = im[0+i*PATCH_SIZE:PATCH_SIZE+i*PATCH_SIZE, 0+j*PATCH_SIZE:PATCH_SIZE+j*PATCH_SIZE, :] \n",
    "                \n",
    "                patch.append(hazy_patch)\n",
    "                \n",
    "    patch = np.array(patch)\n",
    "    \n",
    "    patch = patch.astype(np.float32)\n",
    "    \n",
    "    patch = patch/255.0\n",
    "    \n",
    "    trans = net(patch)\n",
    "    \n",
    "    temp = trans\n",
    "    \n",
    "    temp = temp.numpy().ravel()\n",
    "    \n",
    "    for i in range(num_h):\n",
    "        \n",
    "            for j in range(num_w):\n",
    "                \n",
    "                #f_value = temp[i*PATCH_SIZE+j]\n",
    "                f_value = temp[i*num_w+j]\n",
    "                \n",
    "                transmission[0+i*PATCH_SIZE:PATCH_SIZE+i*PATCH_SIZE, 0+j*PATCH_SIZE:PATCH_SIZE+j*PATCH_SIZE] = f_value\n",
    "    \n",
    "    return transmission"
   ]
  },
  {
   "cell_type": "markdown",
   "metadata": {},
   "source": [
    "# 导向滤波，优化transmission map"
   ]
  },
  {
   "cell_type": "code",
   "execution_count": 5,
   "metadata": {},
   "outputs": [],
   "source": [
    "def Guidedfilter(im,p,r,eps):\n",
    "    \n",
    "    mean_I = cv2.boxFilter(im,cv2.CV_64F,(r,r))\n",
    "    \n",
    "    mean_p = cv2.boxFilter(p, cv2.CV_64F,(r,r))\n",
    "    \n",
    "    mean_Ip = cv2.boxFilter(im*p,cv2.CV_64F,(r,r))\n",
    "    \n",
    "    cov_Ip = mean_Ip - mean_I*mean_p\n",
    "    \n",
    "    mean_II = cv2.boxFilter(im*im,cv2.CV_64F,(r,r))\n",
    "    \n",
    "    var_I   = mean_II - mean_I*mean_I\n",
    "    \n",
    "    a = cov_Ip/(var_I + eps)\n",
    "    \n",
    "    b = mean_p - a*mean_I\n",
    "    \n",
    "    mean_a = cv2.boxFilter(a,cv2.CV_64F,(r,r))\n",
    "    \n",
    "    mean_b = cv2.boxFilter(b,cv2.CV_64F,(r,r))\n",
    "    \n",
    "    q = mean_a*im + mean_b\n",
    "    \n",
    "    return q\n",
    "\n",
    "\n",
    "def TransmissionRefine(im,et):\n",
    "    \n",
    "    gray = cv2.cvtColor(im,cv2.COLOR_BGR2GRAY)\n",
    "    \n",
    "    gray = np.float64(gray)/255\n",
    "    \n",
    "    r = 60\n",
    "    \n",
    "    eps = 0.0001\n",
    "    \n",
    "    t = Guidedfilter(gray,et,r,eps)\n",
    "    \n",
    "    return t"
   ]
  },
  {
   "cell_type": "markdown",
   "metadata": {},
   "source": [
    "# 恢复得到无雾图"
   ]
  },
  {
   "cell_type": "code",
   "execution_count": 6,
   "metadata": {},
   "outputs": [],
   "source": [
    "def Recover(im,t,A,tx = 0.1,tm = 1.0):\n",
    "    \n",
    "    res = np.empty(im.shape,im.dtype)\n",
    "    \n",
    "    t = cv2.max(t,tx)\n",
    "    \n",
    "    t = cv2.min(t,tm)\n",
    "    \n",
    "    for idx in range(0,3):\n",
    "        \n",
    "        res[:,:,idx] = (im[:,:,idx]-A[0,idx])/t + A[0,idx]\n",
    "        \n",
    "    return res"
   ]
  },
  {
   "cell_type": "markdown",
   "metadata": {},
   "source": [
    "# 单幅图片测试"
   ]
  },
  {
   "cell_type": "code",
   "execution_count": 7,
   "metadata": {},
   "outputs": [],
   "source": [
    "PATCH_SIZE = 16\n",
    "model_dir = './model'\n",
    "im_path = './demo/1.png'"
   ]
  },
  {
   "cell_type": "code",
   "execution_count": 8,
   "metadata": {},
   "outputs": [
    {
     "name": "stdout",
     "output_type": "stream",
     "text": [
      "image reading cost:  10.770394325256348\n",
      "A: [[0.89048302 0.83189861 0.82018173]]\n",
      "A estimate cost: 0.05343365669250488\n",
      "tmap estimate cost: 4.438108682632446\n",
      "time cost: 15.352979898452759\n",
      "Work Done! Dehazed image im path: ./demo/1_Dehaze_proposed.png\n"
     ]
    }
   ],
   "source": [
    "if __name__ == \"__main__\":\n",
    "    K.clear_session()\n",
    "    t1 = time.time()\n",
    "    src = cv2.imread(im_path)    #src.shape == [h,w,c]\n",
    "    (h,w) = src.shape[0:2]\n",
    "    net = tf.keras.models.load_model(os.path.join(model_dir,'model.hdf5'), \n",
    "                                    custom_objects={'MaxoutConv2D':MaxoutConv2D,                                                   \n",
    "                                                   \"r2\":r2})\n",
    "    \n",
    "    if w%PATCH_SIZE != 0 or h%PATCH_SIZE != 0:\n",
    "        if w%PATCH_SIZE != 0:\n",
    "            w = w - (w%PATCH_SIZE)\n",
    "        if h%PATCH_SIZE != 0:\n",
    "            h = h - (h%PATCH_SIZE)\n",
    "        src = src[0:h, 0:w]\n",
    "        cv2.imwrite(im_path,src)   \n",
    "        src = cv2.imread(im_path)  \n",
    "    t_src = time.time()\n",
    "    print(\"image reading cost: \", t_src-t1)\n",
    "    height = src.shape[0]\n",
    "    width =src.shape[1]\n",
    "    I = src/255.0\n",
    "    dark = DarkChannel(I,16)\n",
    "    A = AtmLight(I,dark)\n",
    "    print(\"A:\",A)\n",
    "    t_A = time.time()\n",
    "    print(\"A estimate cost:\", t_A-t_src)\n",
    "    te = TransmissionEstimate(src,net)\n",
    "    t = TransmissionRefine(src,te)\n",
    "    t_t = time.time()\n",
    "    print(\"tmap estimate cost:\", t_t-t_A)\n",
    "    J = Recover(I,t,A,0.1)\n",
    "    suffix = im_path.rpartition('.')[-1]\n",
    "    prefix = im_path.rpartition('.')[0]\n",
    "    save_path = prefix + '_Dehaze_proposed.' + suffix\n",
    "    cv2.imwrite(save_path,J*255)    \n",
    "    t2 = time.time()\n",
    "    print(\"time cost:\",t2-t1)\n",
    "    print('Work Done! Dehazed image im path:',save_path)"
   ]
  },
  {
   "cell_type": "code",
   "execution_count": null,
   "metadata": {},
   "outputs": [],
   "source": []
  }
 ],
 "metadata": {
  "kernelspec": {
   "display_name": "Python 3",
   "language": "python",
   "name": "python3"
  },
  "language_info": {
   "codemirror_mode": {
    "name": "ipython",
    "version": 3
   },
   "file_extension": ".py",
   "mimetype": "text/x-python",
   "name": "python",
   "nbconvert_exporter": "python",
   "pygments_lexer": "ipython3",
   "version": "3.7.4"
  }
 },
 "nbformat": 4,
 "nbformat_minor": 4
}
